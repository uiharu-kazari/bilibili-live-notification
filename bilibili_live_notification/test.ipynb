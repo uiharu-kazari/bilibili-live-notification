{
 "cells": [
  {
   "cell_type": "code",
   "execution_count": 1,
   "metadata": {},
   "outputs": [],
   "source": [
    "\n",
    "import sys\n",
    "sys.path.append('..')\n",
    "from bilibili_live_notification import config as config\n",
    "from bilibili_live_notification import webhook as webhook"
   ]
  },
  {
   "cell_type": "code",
   "execution_count": 4,
   "metadata": {},
   "outputs": [
    {
     "name": "stdout",
     "output_type": "stream",
     "text": [
      "> \u001b[0;32m/Users/hina/Library/CloudStorage/OneDrive-KyotoUniversity/Documents/Services/bilibili-live-notification/bilibili_live_notification/webhook.py\u001b[0m(51)\u001b[0;36mtrigger\u001b[0;34m()\u001b[0m\n",
      "\u001b[0;32m     49 \u001b[0;31m        \u001b[0;32mimport\u001b[0m \u001b[0mpdb\u001b[0m\u001b[0;34m\u001b[0m\u001b[0;34m\u001b[0m\u001b[0m\n",
      "\u001b[0m\u001b[0;32m     50 \u001b[0;31m        \u001b[0mpdb\u001b[0m\u001b[0;34m.\u001b[0m\u001b[0mset_trace\u001b[0m\u001b[0;34m(\u001b[0m\u001b[0;34m)\u001b[0m\u001b[0;34m\u001b[0m\u001b[0;34m\u001b[0m\u001b[0m\n",
      "\u001b[0m\u001b[0;32m---> 51 \u001b[0;31m        \u001b[0;32masync\u001b[0m \u001b[0;32mwith\u001b[0m \u001b[0maiohttp\u001b[0m\u001b[0;34m.\u001b[0m\u001b[0mrequest\u001b[0m\u001b[0;34m(\u001b[0m\u001b[0mmethod\u001b[0m\u001b[0;34m,\u001b[0m \u001b[0murl\u001b[0m\u001b[0;34m,\u001b[0m \u001b[0mheaders\u001b[0m\u001b[0;34m=\u001b[0m\u001b[0mheaders\u001b[0m\u001b[0;34m,\u001b[0m \u001b[0mdata\u001b[0m\u001b[0;34m=\u001b[0m\u001b[0mbody\u001b[0m\u001b[0;34m)\u001b[0m \u001b[0;32mas\u001b[0m \u001b[0mresp\u001b[0m\u001b[0;34m:\u001b[0m\u001b[0;34m\u001b[0m\u001b[0;34m\u001b[0m\u001b[0m\n",
      "\u001b[0m\u001b[0;32m     52 \u001b[0;31m            \u001b[0mbody\u001b[0m \u001b[0;34m=\u001b[0m \u001b[0;32mawait\u001b[0m \u001b[0mresp\u001b[0m\u001b[0;34m.\u001b[0m\u001b[0mtext\u001b[0m\u001b[0;34m(\u001b[0m\u001b[0merrors\u001b[0m\u001b[0;34m=\u001b[0m\u001b[0;34m\"replace\"\u001b[0m\u001b[0;34m)\u001b[0m\u001b[0;34m\u001b[0m\u001b[0;34m\u001b[0m\u001b[0m\n",
      "\u001b[0m\u001b[0;32m     53 \u001b[0;31m            \u001b[0;32mif\u001b[0m \u001b[0mresp\u001b[0m\u001b[0;34m.\u001b[0m\u001b[0mstatus\u001b[0m \u001b[0;32mnot\u001b[0m \u001b[0;32min\u001b[0m \u001b[0;34m[\u001b[0m\u001b[0;36m200\u001b[0m\u001b[0;34m,\u001b[0m\u001b[0;36m204\u001b[0m\u001b[0;34m]\u001b[0m\u001b[0;34m:\u001b[0m\u001b[0;34m\u001b[0m\u001b[0;34m\u001b[0m\u001b[0m\n",
      "\u001b[0m\n"
     ]
    }
   ],
   "source": []
  },
  {
   "cell_type": "code",
   "execution_count": 3,
   "metadata": {},
   "outputs": [],
   "source": [
    "config.get_csv('BILIBILI_WEBHOOK_SUPER_CHAT_MESSAGE')\n",
    "# load the content in ../sc_2023_11_13_18_49_16.json as a dict object called event\n",
    "# use json\n",
    "import json\n",
    "with open('../sc_2023_11_13_18_49_16.json', 'r') as f:\n",
    "    event = json.load(f)\n",
    "data={\n",
    "        **dict(\n",
    "            event=event,\n",
    "        ),\n",
    "}\n",
    "name='SC'"
   ]
  },
  {
   "cell_type": "code",
   "execution_count": 3,
   "metadata": {},
   "outputs": [
    {
     "data": {
      "text/plain": [
       "'{\"embeds\": [{\"author\": {\"icon_url\": \"https://i0.hdslb.com/bfs/face/5d967846c6cae342562726fd626d2882510ae982.jpg\", \"name\": \"\\\\u4e8c\\\\u91cd\\\\u594f\\\\u4e8c\\\\u91cd\\\\u594f\", \"url\": \"https://space.bilibili.com/211704\"}, \"color\": 2777266, \"description\": \"Default description or some other fallback text\", \"fields\": [{\"name\": \"\\\\u91d1\\\\u989d\", \"value\": 30}, {\"inline\": true, \"name\": \"\\\\u5927\\\\u822a\\\\u6d77\", \"value\": \"\\\\u8230\\\\u957f\"}, {\"inline\": true, \"name\": \"\\\\u52cb\\\\u7ae0\", \"value\": \"\\\\u96cf\\\\u8349\\\\u59ec\"}, {\"inline\": true, \"name\": \"\\\\u52cb\\\\u7ae0\\\\u7b49\\\\u7ea7\", \"value\": 27}], \"footer\": {\"text\": \"id: 8399605\"}, \"title\": \"\\\\u6765\\\\u70b9\\\\u5854\\\\u83f2\\\\u80fd\\\\u91cf\"}]}'"
      ]
     },
     "execution_count": 3,
     "metadata": {},
     "output_type": "execute_result"
    }
   ],
   "source": [
    "config.get(\"WEBHOOK_BODY_SC\",data)\n",
    "await webhook.trigger('SC',data)"
   ]
  },
  {
   "cell_type": "code",
   "execution_count": 5,
   "metadata": {},
   "outputs": [],
   "source": [
    "# read method,url,headers,body from debug.json\n",
    "import json\n",
    "with open('./debug.json', 'r') as f:\n",
    "    debug = json.load(f)\n",
    "    method=debug['method']\n",
    "    url=debug['url']\n",
    "    headers=debug['headers']\n",
    "    real_body=debug['body']\n",
    "    \n",
    "import aiohttp\n",
    "try:\n",
    "    async with aiohttp.request(method, url, headers=headers, data=real_body) as resp:\n",
    "        body = await resp.text(errors=\"replace\")\n",
    "        # your code\n",
    "except aiohttp.ClientError as e:\n",
    "    print(f\"HTTP request failed: {e}\")\n"
   ]
  },
  {
   "cell_type": "code",
   "execution_count": 6,
   "metadata": {},
   "outputs": [
    {
     "data": {
      "text/plain": [
       "'{\"message\": \"Cannot send an empty message\", \"code\": 50006}'"
      ]
     },
     "execution_count": 6,
     "metadata": {},
     "output_type": "execute_result"
    }
   ],
   "source": [
    "body"
   ]
  },
  {
   "cell_type": "code",
   "execution_count": null,
   "metadata": {},
   "outputs": [],
   "source": []
  },
  {
   "cell_type": "code",
   "execution_count": 30,
   "metadata": {},
   "outputs": [
    {
     "data": {
      "text/plain": [
       "'{\"content\": \"Hello, this is a simple message\", \"embeds\": [{\"title\": \"Embed Title\", \"description\": \"This is an embed description\", \"color\": 15258703, \"fields\": [{\"name\": \"Field 1\", \"value\": \"Value 1\", \"inline\": true}, {\"name\": \"Field 2\", \"value\": \"Value 2\", \"inline\": true}]}]}'"
      ]
     },
     "execution_count": 30,
     "metadata": {},
     "output_type": "execute_result"
    }
   ],
   "source": [
    "json.dumps(payload)"
   ]
  },
  {
   "cell_type": "code",
   "execution_count": 31,
   "metadata": {},
   "outputs": [],
   "source": [
    "real_body_json = json.loads(real_body)"
   ]
  },
  {
   "cell_type": "code",
   "execution_count": 34,
   "metadata": {},
   "outputs": [
    {
     "name": "stdout",
     "output_type": "stream",
     "text": [
      "{\n",
      "    \"embed\": {\n",
      "        \"author\": {\n",
      "            \"icon_url\": \"https://i0.hdslb.com/bfs/face/5d967846c6cae342562726fd626d2882510ae982.jpg\",\n",
      "            \"name\": \"\\u4e8c\\u91cd\\u594f\\u4e8c\\u91cd\\u594f\",\n",
      "            \"url\": \"https://space.bilibili.com/211704\"\n",
      "        },\n",
      "        \"color\": 2777266,\n",
      "        \"description\": \"Default description or some other fallback text\",\n",
      "        \"fields\": [\n",
      "            {\n",
      "                \"name\": \"\\u91d1\\u989d\",\n",
      "                \"value\": 30\n",
      "            },\n",
      "            {\n",
      "                \"inline\": true,\n",
      "                \"name\": \"\\u5927\\u822a\\u6d77\",\n",
      "                \"value\": \"\\u8230\\u957f\"\n",
      "            },\n",
      "            {\n",
      "                \"inline\": true,\n",
      "                \"name\": \"\\u52cb\\u7ae0\",\n",
      "                \"value\": \"\\u96cf\\u8349\\u59ec\"\n",
      "            },\n",
      "            {\n",
      "                \"inline\": true,\n",
      "                \"name\": \"\\u52cb\\u7ae0\\u7b49\\u7ea7\",\n",
      "                \"value\": 27\n",
      "            }\n",
      "        ],\n",
      "        \"footer\": {\n",
      "            \"text\": \"id: 8399605\"\n",
      "        },\n",
      "        \"title\": \"\\u6765\\u70b9\\u5854\\u83f2\\u80fd\\u91cf\"\n",
      "    }\n",
      "}\n"
     ]
    }
   ],
   "source": [
    "#print the json in a pretty way\n",
    "import json\n",
    "print(json.dumps(real_body_json, indent=4, sort_keys=True))"
   ]
  },
  {
   "cell_type": "code",
   "execution_count": 35,
   "metadata": {},
   "outputs": [],
   "source": [
    "payload = {\n",
    "    \"embeds\": [{  # List of embeds\n",
    "        \"title\": \"Embed Title\",\n",
    "        \"description\": \"This is an embed description\",\n",
    "        \"color\": 15258703,\n",
    "        \"fields\": [\n",
    "            {\"name\": \"Field 1\", \"value\": \"Value 1\", \"inline\": True},\n",
    "            {\"name\": \"Field 2\", \"value\": \"Value 2\", \"inline\": True}\n",
    "        ]\n",
    "    }]\n",
    "}"
   ]
  }
 ],
 "metadata": {
  "kernelspec": {
   "display_name": "bilibili",
   "language": "python",
   "name": "python3"
  },
  "language_info": {
   "codemirror_mode": {
    "name": "ipython",
    "version": 3
   },
   "file_extension": ".py",
   "mimetype": "text/x-python",
   "name": "python",
   "nbconvert_exporter": "python",
   "pygments_lexer": "ipython3",
   "version": "3.8.17"
  }
 },
 "nbformat": 4,
 "nbformat_minor": 2
}
